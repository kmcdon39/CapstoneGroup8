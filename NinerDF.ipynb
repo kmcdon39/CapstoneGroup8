{
 "cells": [
  {
   "cell_type": "code",
   "execution_count": 63,
   "id": "fb5b09e3",
   "metadata": {},
   "outputs": [],
   "source": [
    "import altair as alt\n",
    "import pandas as pd\n",
    "import numpy as np\n",
    "import streamlit as st"
   ]
  },
  {
   "cell_type": "code",
   "execution_count": 64,
   "id": "ce1e8ac0",
   "metadata": {},
   "outputs": [
    {
     "name": "stdout",
     "output_type": "stream",
     "text": [
      "['Patrick Dickey', 'Tom Yoxsimer', 'Cole Bauguess', 'Kevin Mcdonald', 'William Landon', 'Duane Shelton']\n",
      "[800100200, 800100201, 800100202, 800100203, 800100204, 800100205]\n"
     ]
    }
   ],
   "source": [
    "student_names = ['Patrick Dickey', 'Tom Yoxsimer','Cole Bauguess','Kevin Mcdonald','William Landon','Duane Shelton']\n",
    "student_ids = [800100200, 800100201,800100202,800100203,800100204,800100205]\n",
    "print(student_names)\n",
    "print(student_ids)"
   ]
  },
  {
   "cell_type": "code",
   "execution_count": 65,
   "id": "82088e15",
   "metadata": {},
   "outputs": [
    {
     "data": {
      "text/html": [
       "<div>\n",
       "<style scoped>\n",
       "    .dataframe tbody tr th:only-of-type {\n",
       "        vertical-align: middle;\n",
       "    }\n",
       "\n",
       "    .dataframe tbody tr th {\n",
       "        vertical-align: top;\n",
       "    }\n",
       "\n",
       "    .dataframe thead th {\n",
       "        text-align: right;\n",
       "    }\n",
       "</style>\n",
       "<table border=\"1\" class=\"dataframe\">\n",
       "  <thead>\n",
       "    <tr style=\"text-align: right;\">\n",
       "      <th></th>\n",
       "      <th>student_name</th>\n",
       "      <th>student_id</th>\n",
       "    </tr>\n",
       "  </thead>\n",
       "  <tbody>\n",
       "    <tr>\n",
       "      <th>0</th>\n",
       "      <td>Patrick Dickey</td>\n",
       "      <td>800100200</td>\n",
       "    </tr>\n",
       "    <tr>\n",
       "      <th>1</th>\n",
       "      <td>Tom Yoxsimer</td>\n",
       "      <td>800100201</td>\n",
       "    </tr>\n",
       "    <tr>\n",
       "      <th>2</th>\n",
       "      <td>Cole Bauguess</td>\n",
       "      <td>800100202</td>\n",
       "    </tr>\n",
       "    <tr>\n",
       "      <th>3</th>\n",
       "      <td>Kevin Mcdonald</td>\n",
       "      <td>800100203</td>\n",
       "    </tr>\n",
       "    <tr>\n",
       "      <th>4</th>\n",
       "      <td>William Landon</td>\n",
       "      <td>800100204</td>\n",
       "    </tr>\n",
       "    <tr>\n",
       "      <th>5</th>\n",
       "      <td>Duane Shelton</td>\n",
       "      <td>800100205</td>\n",
       "    </tr>\n",
       "  </tbody>\n",
       "</table>\n",
       "</div>"
      ],
      "text/plain": [
       "     student_name  student_id\n",
       "0  Patrick Dickey   800100200\n",
       "1    Tom Yoxsimer   800100201\n",
       "2   Cole Bauguess   800100202\n",
       "3  Kevin Mcdonald   800100203\n",
       "4  William Landon   800100204\n",
       "5   Duane Shelton   800100205"
      ]
     },
     "execution_count": 65,
     "metadata": {},
     "output_type": "execute_result"
    }
   ],
   "source": [
    "students_df = pd.DataFrame(student_names)\n",
    "\n",
    "students_df.rename(columns = {0:'student_name'}, inplace = True)\n",
    "students_df['student_id'] = student_ids\n",
    "students_df"
   ]
  },
  {
   "cell_type": "code",
   "execution_count": 82,
   "id": "c0d22196",
   "metadata": {},
   "outputs": [
    {
     "data": {
      "text/html": [
       "<div>\n",
       "<style scoped>\n",
       "    .dataframe tbody tr th:only-of-type {\n",
       "        vertical-align: middle;\n",
       "    }\n",
       "\n",
       "    .dataframe tbody tr th {\n",
       "        vertical-align: top;\n",
       "    }\n",
       "\n",
       "    .dataframe thead th {\n",
       "        text-align: right;\n",
       "    }\n",
       "</style>\n",
       "<table border=\"1\" class=\"dataframe\">\n",
       "  <thead>\n",
       "    <tr style=\"text-align: right;\">\n",
       "      <th></th>\n",
       "      <th>club_name</th>\n",
       "      <th>club_id</th>\n",
       "      <th>club_size</th>\n",
       "      <th>activity</th>\n",
       "      <th>communication</th>\n",
       "    </tr>\n",
       "  </thead>\n",
       "  <tbody>\n",
       "    <tr>\n",
       "      <th>0</th>\n",
       "      <td>Chess Club</td>\n",
       "      <td>1</td>\n",
       "      <td>50</td>\n",
       "      <td>50</td>\n",
       "      <td>https://discord.gg/2DmmD9qm</td>\n",
       "    </tr>\n",
       "    <tr>\n",
       "      <th>1</th>\n",
       "      <td>Ultimate Frisbee</td>\n",
       "      <td>2</td>\n",
       "      <td>60</td>\n",
       "      <td>50</td>\n",
       "      <td>GroupMe invite</td>\n",
       "    </tr>\n",
       "    <tr>\n",
       "      <th>2</th>\n",
       "      <td>Archery Club</td>\n",
       "      <td>3</td>\n",
       "      <td>10</td>\n",
       "      <td>50</td>\n",
       "      <td>https://discord.gg/2DmmD9qm</td>\n",
       "    </tr>\n",
       "    <tr>\n",
       "      <th>3</th>\n",
       "      <td>Alpha Sigma Phi</td>\n",
       "      <td>4</td>\n",
       "      <td>120</td>\n",
       "      <td>50</td>\n",
       "      <td>https://discord.gg/2DmmD9qm</td>\n",
       "    </tr>\n",
       "    <tr>\n",
       "      <th>4</th>\n",
       "      <td>Rho Tau Sigma</td>\n",
       "      <td>5</td>\n",
       "      <td>70</td>\n",
       "      <td>50</td>\n",
       "      <td>https://discord.gg/2DmmD9qm</td>\n",
       "    </tr>\n",
       "  </tbody>\n",
       "</table>\n",
       "</div>"
      ],
      "text/plain": [
       "          club_name  club_id  club_size  activity                communication\n",
       "0        Chess Club        1         50        50  https://discord.gg/2DmmD9qm\n",
       "1  Ultimate Frisbee        2         60        50               GroupMe invite\n",
       "2      Archery Club        3         10        50  https://discord.gg/2DmmD9qm\n",
       "3   Alpha Sigma Phi        4        120        50  https://discord.gg/2DmmD9qm\n",
       "4     Rho Tau Sigma        5         70        50  https://discord.gg/2DmmD9qm"
      ]
     },
     "execution_count": 82,
     "metadata": {},
     "output_type": "execute_result"
    }
   ],
   "source": [
    "club_names = ['Chess Club','Ultimate Frisbee','Archery Club','Alpha Sigma Phi','Rho Tau Sigma']\n",
    "club_id = [1,2,3,4,5]\n",
    "club_size = [50,60,10,120,70]\n",
    "activity = [50,50,50,50,50]\n",
    "communication = ['https://discord.gg/2DmmD9qm','GroupMe invite','https://discord.gg/2DmmD9qm','https://discord.gg/2DmmD9qm','https://discord.gg/2DmmD9qm']\n",
    "club_df = pd.DataFrame(club_names)\n",
    "club_df['club_id'] = club_id\n",
    "club_df['club_size'] = club_size\n",
    "club_df['activity'] = activity\n",
    "club_df['communication'] = communication\n",
    "club_df.rename(columns = {0:'club_name'}, inplace = True)\n",
    "club_df"
   ]
  },
  {
   "cell_type": "code",
   "execution_count": 67,
   "id": "cc0169e3",
   "metadata": {},
   "outputs": [
    {
     "data": {
      "text/html": [
       "<div>\n",
       "<style scoped>\n",
       "    .dataframe tbody tr th:only-of-type {\n",
       "        vertical-align: middle;\n",
       "    }\n",
       "\n",
       "    .dataframe tbody tr th {\n",
       "        vertical-align: top;\n",
       "    }\n",
       "\n",
       "    .dataframe thead th {\n",
       "        text-align: right;\n",
       "    }\n",
       "</style>\n",
       "<table border=\"1\" class=\"dataframe\">\n",
       "  <thead>\n",
       "    <tr style=\"text-align: right;\">\n",
       "      <th></th>\n",
       "      <th>role</th>\n",
       "      <th>club_id</th>\n",
       "      <th>student_id</th>\n",
       "    </tr>\n",
       "  </thead>\n",
       "  <tbody>\n",
       "    <tr>\n",
       "      <th>0</th>\n",
       "      <td>President</td>\n",
       "      <td>1</td>\n",
       "      <td>800100200</td>\n",
       "    </tr>\n",
       "    <tr>\n",
       "      <th>1</th>\n",
       "      <td>Captain</td>\n",
       "      <td>2</td>\n",
       "      <td>800100201</td>\n",
       "    </tr>\n",
       "    <tr>\n",
       "      <th>2</th>\n",
       "      <td>Vice President</td>\n",
       "      <td>3</td>\n",
       "      <td>800100202</td>\n",
       "    </tr>\n",
       "    <tr>\n",
       "      <th>3</th>\n",
       "      <td>Officer</td>\n",
       "      <td>4</td>\n",
       "      <td>800100203</td>\n",
       "    </tr>\n",
       "    <tr>\n",
       "      <th>4</th>\n",
       "      <td>Treasurer</td>\n",
       "      <td>5</td>\n",
       "      <td>800100204</td>\n",
       "    </tr>\n",
       "    <tr>\n",
       "      <th>5</th>\n",
       "      <td>President</td>\n",
       "      <td>4</td>\n",
       "      <td>800100205</td>\n",
       "    </tr>\n",
       "  </tbody>\n",
       "</table>\n",
       "</div>"
      ],
      "text/plain": [
       "             role  club_id  student_id\n",
       "0       President        1   800100200\n",
       "1         Captain        2   800100201\n",
       "2  Vice President        3   800100202\n",
       "3         Officer        4   800100203\n",
       "4       Treasurer        5   800100204\n",
       "5       President        4   800100205"
      ]
     },
     "execution_count": 67,
     "metadata": {},
     "output_type": "execute_result"
    }
   ],
   "source": [
    "roles = ['President','Captain', 'Vice President', 'Officer', 'Treasurer','President']\n",
    "membership_df = pd.DataFrame(roles)\n",
    "membership_df['club_id'] = [1,2,3,4,5,4]\n",
    "membership_df['student_id'] = student_ids\n",
    "membership_df.rename(columns = {0:'role'}, inplace = True)\n",
    "membership_df"
   ]
  },
  {
   "cell_type": "code",
   "execution_count": 135,
   "id": "88a80859",
   "metadata": {},
   "outputs": [
    {
     "name": "stdout",
     "output_type": "stream",
     "text": [
      "             role  club_id  student_id\n",
      "0       President        1   800100200\n",
      "1         Captain        2   800100201\n",
      "2  Vice President        3   800100202\n",
      "3         Officer        4   800100203\n",
      "4       Treasurer        5   800100204\n",
      "5       President        4   800100205\n",
      "6          Member        3   800100200\n"
     ]
    }
   ],
   "source": [
    "# Join club\n",
    "# Inputs required: student_id, club_id, role (default = member)\n",
    "student_id = 800100200\n",
    "club_id = 3\n",
    "role = 'Member'\n",
    "def join_club(student_id, club_id, role):\n",
    "    membership_df.loc[len(membership_df.index)] = [role, club_id, student_id]\n",
    "    print(membership_df)\n",
    "#membership_df = membership_df.iloc[:-1, :]\n",
    "join_club(800100200, 3, 'Member')"
   ]
  },
  {
   "cell_type": "code",
   "execution_count": 129,
   "id": "1226f3b8",
   "metadata": {},
   "outputs": [
    {
     "name": "stdout",
     "output_type": "stream",
     "text": [
      "     student_name student_id\n",
      "0  Patrick Dickey  800100200\n",
      "1    Tom Yoxsimer  800100201\n",
      "2   Cole Bauguess  800100202\n",
      "3  Kevin Mcdonald  800100203\n",
      "4  William Landon  800100204\n",
      "5   Duane Shelton  800100205\n",
      "7    Luke Keuchly  800100207\n"
     ]
    }
   ],
   "source": [
    "# Add new user\n",
    "# Inputs required: student_id, student_name\n",
    "student_name = 'Luke Keuchly'\n",
    "student_id = '800100207'\n",
    "def add_user(student_name, student_id):\n",
    "    students_df.loc[len(membership_df.index)] = [student_name, student_id]\n",
    "    print(students_df)\n",
    "add_user('Luke Keuchly', '800100207')"
   ]
  },
  {
   "cell_type": "code",
   "execution_count": 124,
   "id": "b3bc0610",
   "metadata": {},
   "outputs": [
    {
     "name": "stdout",
     "output_type": "stream",
     "text": [
      "      club_name  club_id  club_size  activity                communication\n",
      "0    Chess Club        1         50        50  https://discord.gg/2DmmD9qm\n",
      "2  Archery Club        3         10        50  https://discord.gg/2DmmD9qm\n"
     ]
    }
   ],
   "source": [
    "# Show clubs\n",
    "# Inputs required: student_id\n",
    "df = pd.DataFrame()\n",
    "student_id = 800100200\n",
    "clubs = pd.DataFrame()\n",
    "club_ids = []\n",
    "def showclubs(student_id):\n",
    "    clubs = pd.DataFrame()\n",
    "    df = membership_df[membership_df['student_id'] == student_id]\n",
    "\n",
    "    for x in df['club_id']: \n",
    "        data = club_df[club_df['club_id'] == x]\n",
    "        clubs = clubs.append(data)\n",
    "    print(clubs)\n",
    "    return(clubs)\n",
    "new_df = showclubs(800100200)"
   ]
  },
  {
   "cell_type": "code",
   "execution_count": 147,
   "id": "9db29dcd",
   "metadata": {},
   "outputs": [
    {
     "name": "stdout",
     "output_type": "stream",
     "text": [
      "['archery club', 'alpha sigma phi']\n"
     ]
    },
    {
     "data": {
      "text/plain": [
       "['archery club', 'alpha sigma phi']"
      ]
     },
     "execution_count": 147,
     "metadata": {},
     "output_type": "execute_result"
    }
   ],
   "source": [
    "# Search for club\n",
    "# Inputs required: club_name\n",
    "club_name = 'Chess club'\n",
    "def club_search(club_name):\n",
    "    clubs = []\n",
    "    club_name = club_name.lower()\n",
    "    for x in club_df['club_name'].str.lower():\n",
    "        if x.startswith(club_name):\n",
    "            clubs.append(x)\n",
    "    print(clubs)\n",
    "    return(clubs)\n",
    "club_search('a')"
   ]
  },
  {
   "cell_type": "code",
   "execution_count": 170,
   "id": "e0056ad5",
   "metadata": {},
   "outputs": [
    {
     "name": "stdout",
     "output_type": "stream",
     "text": [
      "          club_name  club_id  club_size  activity                communication\n",
      "1  Ultimate Frisbee        2         60        50               GroupMe invite\n",
      "4     Rho Tau Sigma        5         70        50  https://discord.gg/2DmmD9qm\n",
      "          club_name  club_id  club_size  activity                communication\n",
      "1  Ultimate Frisbee        2         60        50               GroupMe invite\n",
      "4     Rho Tau Sigma        5         70        50  https://discord.gg/2DmmD9qm\n"
     ]
    },
    {
     "data": {
      "text/html": [
       "<div>\n",
       "<style scoped>\n",
       "    .dataframe tbody tr th:only-of-type {\n",
       "        vertical-align: middle;\n",
       "    }\n",
       "\n",
       "    .dataframe tbody tr th {\n",
       "        vertical-align: top;\n",
       "    }\n",
       "\n",
       "    .dataframe thead th {\n",
       "        text-align: right;\n",
       "    }\n",
       "</style>\n",
       "<table border=\"1\" class=\"dataframe\">\n",
       "  <thead>\n",
       "    <tr style=\"text-align: right;\">\n",
       "      <th></th>\n",
       "      <th>club_name</th>\n",
       "      <th>club_id</th>\n",
       "      <th>club_size</th>\n",
       "      <th>activity</th>\n",
       "      <th>communication</th>\n",
       "    </tr>\n",
       "  </thead>\n",
       "  <tbody>\n",
       "    <tr>\n",
       "      <th>1</th>\n",
       "      <td>Ultimate Frisbee</td>\n",
       "      <td>2</td>\n",
       "      <td>60</td>\n",
       "      <td>50</td>\n",
       "      <td>GroupMe invite</td>\n",
       "    </tr>\n",
       "    <tr>\n",
       "      <th>4</th>\n",
       "      <td>Rho Tau Sigma</td>\n",
       "      <td>5</td>\n",
       "      <td>70</td>\n",
       "      <td>50</td>\n",
       "      <td>https://discord.gg/2DmmD9qm</td>\n",
       "    </tr>\n",
       "  </tbody>\n",
       "</table>\n",
       "</div>"
      ],
      "text/plain": [
       "          club_name  club_id  club_size  activity                communication\n",
       "1  Ultimate Frisbee        2         60        50               GroupMe invite\n",
       "4     Rho Tau Sigma        5         70        50  https://discord.gg/2DmmD9qm"
      ]
     },
     "execution_count": 170,
     "metadata": {},
     "output_type": "execute_result"
    }
   ],
   "source": [
    "# Display clubs based on criteria\n",
    "# Inputs required: any attribute of club\n",
    "def club_slicer(min,max,attribute,slice_number=1,min2=0,max2=0,attribute2=''):\n",
    "    club_slice = club_df[club_df[attribute] > min]\n",
    "    club_slice = club_slice[club_slice[attribute] < max]\n",
    "    print(club_slice)\n",
    "    if slice_number == 2:\n",
    "        club_slice = club_slice[club_slice[attribute2]>min2]\n",
    "        club_slice = club_slice[club_slice[attribute2]<max2]\n",
    "    print(club_slice)\n",
    "    return club_slice\n",
    "\n",
    "club_slicer(50,100,'club_size',2,40,60,'activity')"
   ]
  },
  {
   "cell_type": "code",
   "execution_count": 150,
   "id": "6d554ba2",
   "metadata": {},
   "outputs": [
    {
     "data": {
      "text/html": [
       "<div>\n",
       "<style scoped>\n",
       "    .dataframe tbody tr th:only-of-type {\n",
       "        vertical-align: middle;\n",
       "    }\n",
       "\n",
       "    .dataframe tbody tr th {\n",
       "        vertical-align: top;\n",
       "    }\n",
       "\n",
       "    .dataframe thead th {\n",
       "        text-align: right;\n",
       "    }\n",
       "</style>\n",
       "<table border=\"1\" class=\"dataframe\">\n",
       "  <thead>\n",
       "    <tr style=\"text-align: right;\">\n",
       "      <th></th>\n",
       "      <th>club_name</th>\n",
       "      <th>club_id</th>\n",
       "      <th>club_size</th>\n",
       "      <th>activity</th>\n",
       "      <th>communication</th>\n",
       "    </tr>\n",
       "  </thead>\n",
       "  <tbody>\n",
       "    <tr>\n",
       "      <th>0</th>\n",
       "      <td>Chess Club</td>\n",
       "      <td>1</td>\n",
       "      <td>50</td>\n",
       "      <td>50</td>\n",
       "      <td>https://discord.gg/2DmmD9qm</td>\n",
       "    </tr>\n",
       "    <tr>\n",
       "      <th>1</th>\n",
       "      <td>Ultimate Frisbee</td>\n",
       "      <td>2</td>\n",
       "      <td>60</td>\n",
       "      <td>50</td>\n",
       "      <td>GroupMe invite</td>\n",
       "    </tr>\n",
       "    <tr>\n",
       "      <th>2</th>\n",
       "      <td>Archery Club</td>\n",
       "      <td>3</td>\n",
       "      <td>10</td>\n",
       "      <td>50</td>\n",
       "      <td>https://discord.gg/2DmmD9qm</td>\n",
       "    </tr>\n",
       "    <tr>\n",
       "      <th>3</th>\n",
       "      <td>Alpha Sigma Phi</td>\n",
       "      <td>4</td>\n",
       "      <td>120</td>\n",
       "      <td>50</td>\n",
       "      <td>https://discord.gg/2DmmD9qm</td>\n",
       "    </tr>\n",
       "    <tr>\n",
       "      <th>4</th>\n",
       "      <td>Rho Tau Sigma</td>\n",
       "      <td>5</td>\n",
       "      <td>70</td>\n",
       "      <td>50</td>\n",
       "      <td>https://discord.gg/2DmmD9qm</td>\n",
       "    </tr>\n",
       "  </tbody>\n",
       "</table>\n",
       "</div>"
      ],
      "text/plain": [
       "          club_name  club_id  club_size  activity                communication\n",
       "0        Chess Club        1         50        50  https://discord.gg/2DmmD9qm\n",
       "1  Ultimate Frisbee        2         60        50               GroupMe invite\n",
       "2      Archery Club        3         10        50  https://discord.gg/2DmmD9qm\n",
       "3   Alpha Sigma Phi        4        120        50  https://discord.gg/2DmmD9qm\n",
       "4     Rho Tau Sigma        5         70        50  https://discord.gg/2DmmD9qm"
      ]
     },
     "execution_count": 150,
     "metadata": {},
     "output_type": "execute_result"
    }
   ],
   "source": [
    "# Activity Rankings\n",
    "# Inputs required: activity\n",
    "club_df_sorted = club_df.sort_values('activity')\n",
    "club_df_sorted"
   ]
  },
  {
   "cell_type": "code",
   "execution_count": 81,
   "id": "164d85fa",
   "metadata": {},
   "outputs": [],
   "source": [
    "# Next function\n",
    "# Inputs required: "
   ]
  },
  {
   "cell_type": "code",
   "execution_count": null,
   "id": "530ec5f9",
   "metadata": {},
   "outputs": [],
   "source": []
  }
 ],
 "metadata": {
  "kernelspec": {
   "display_name": "Python 3",
   "language": "python",
   "name": "python3"
  },
  "language_info": {
   "codemirror_mode": {
    "name": "ipython",
    "version": 3
   },
   "file_extension": ".py",
   "mimetype": "text/x-python",
   "name": "python",
   "nbconvert_exporter": "python",
   "pygments_lexer": "ipython3",
   "version": "3.8.8"
  }
 },
 "nbformat": 4,
 "nbformat_minor": 5
}
